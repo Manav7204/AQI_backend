{
 "cells": [
  {
   "cell_type": "code",
   "execution_count": 1,
   "id": "bcf746ef",
   "metadata": {},
   "outputs": [],
   "source": [
    "import numpy as np\n",
    "import pandas as pd\n",
    "import matplotlib.pyplot as plt\n",
    "import seaborn as sns\n",
    "%matplotlib inline"
   ]
  },
  {
   "cell_type": "code",
   "execution_count": 2,
   "id": "5cce2f51",
   "metadata": {},
   "outputs": [],
   "source": [
    "df=pd.read_csv(r'C:/Users/manav/Desktop/AQI Prediction/dataset/Mumbai_AQI_Dataset_processed.csv')"
   ]
  },
  {
   "cell_type": "code",
   "execution_count": 3,
   "id": "5dced755",
   "metadata": {},
   "outputs": [
    {
     "data": {
      "text/plain": [
       "date            0\n",
       "AQI             0\n",
       "PM2.5           0\n",
       "PM10            0\n",
       "NO2             0\n",
       "SO2             0\n",
       "CO              0\n",
       "O3              0\n",
       "Next_Day_AQI    0\n",
       "dtype: int64"
      ]
     },
     "execution_count": 3,
     "metadata": {},
     "output_type": "execute_result"
    }
   ],
   "source": [
    "df.isnull().sum()"
   ]
  },
  {
   "cell_type": "code",
   "execution_count": 4,
   "id": "1d436950",
   "metadata": {},
   "outputs": [
    {
     "data": {
      "text/plain": [
       "pandas._libs.tslibs.timestamps.Timestamp"
      ]
     },
     "execution_count": 4,
     "metadata": {},
     "output_type": "execute_result"
    }
   ],
   "source": [
    "df['date']=pd.to_datetime(df['date'],format='mixed')\n",
    "type(df.date[0])"
   ]
  },
  {
   "cell_type": "code",
   "execution_count": 5,
   "id": "8fb36d3a",
   "metadata": {},
   "outputs": [
    {
     "data": {
      "text/html": [
       "<div>\n",
       "<style scoped>\n",
       "    .dataframe tbody tr th:only-of-type {\n",
       "        vertical-align: middle;\n",
       "    }\n",
       "\n",
       "    .dataframe tbody tr th {\n",
       "        vertical-align: top;\n",
       "    }\n",
       "\n",
       "    .dataframe thead th {\n",
       "        text-align: right;\n",
       "    }\n",
       "</style>\n",
       "<table border=\"1\" class=\"dataframe\">\n",
       "  <thead>\n",
       "    <tr style=\"text-align: right;\">\n",
       "      <th></th>\n",
       "      <th>date</th>\n",
       "      <th>AQI</th>\n",
       "      <th>PM2.5</th>\n",
       "      <th>PM10</th>\n",
       "      <th>NO2</th>\n",
       "      <th>SO2</th>\n",
       "      <th>CO</th>\n",
       "      <th>O3</th>\n",
       "      <th>Next_Day_AQI</th>\n",
       "    </tr>\n",
       "  </thead>\n",
       "  <tbody>\n",
       "    <tr>\n",
       "      <th>1838</th>\n",
       "      <td>2024-01-17</td>\n",
       "      <td>101</td>\n",
       "      <td>55.55</td>\n",
       "      <td>109.08</td>\n",
       "      <td>83.83</td>\n",
       "      <td>115.14</td>\n",
       "      <td>1.06</td>\n",
       "      <td>95.95</td>\n",
       "      <td>100.0</td>\n",
       "    </tr>\n",
       "    <tr>\n",
       "      <th>1839</th>\n",
       "      <td>2024-01-18</td>\n",
       "      <td>100</td>\n",
       "      <td>55.00</td>\n",
       "      <td>108.00</td>\n",
       "      <td>83.00</td>\n",
       "      <td>114.00</td>\n",
       "      <td>1.05</td>\n",
       "      <td>95.00</td>\n",
       "      <td>110.0</td>\n",
       "    </tr>\n",
       "    <tr>\n",
       "      <th>1840</th>\n",
       "      <td>2024-01-19</td>\n",
       "      <td>110</td>\n",
       "      <td>60.50</td>\n",
       "      <td>118.80</td>\n",
       "      <td>91.30</td>\n",
       "      <td>125.40</td>\n",
       "      <td>1.16</td>\n",
       "      <td>104.50</td>\n",
       "      <td>151.0</td>\n",
       "    </tr>\n",
       "    <tr>\n",
       "      <th>1841</th>\n",
       "      <td>2024-01-20</td>\n",
       "      <td>151</td>\n",
       "      <td>83.05</td>\n",
       "      <td>163.08</td>\n",
       "      <td>125.33</td>\n",
       "      <td>172.14</td>\n",
       "      <td>1.59</td>\n",
       "      <td>143.45</td>\n",
       "      <td>103.0</td>\n",
       "    </tr>\n",
       "    <tr>\n",
       "      <th>1842</th>\n",
       "      <td>2024-01-21</td>\n",
       "      <td>103</td>\n",
       "      <td>56.65</td>\n",
       "      <td>111.24</td>\n",
       "      <td>85.49</td>\n",
       "      <td>117.42</td>\n",
       "      <td>1.08</td>\n",
       "      <td>97.85</td>\n",
       "      <td>128.0</td>\n",
       "    </tr>\n",
       "  </tbody>\n",
       "</table>\n",
       "</div>"
      ],
      "text/plain": [
       "           date  AQI  PM2.5    PM10     NO2     SO2    CO      O3  \\\n",
       "1838 2024-01-17  101  55.55  109.08   83.83  115.14  1.06   95.95   \n",
       "1839 2024-01-18  100  55.00  108.00   83.00  114.00  1.05   95.00   \n",
       "1840 2024-01-19  110  60.50  118.80   91.30  125.40  1.16  104.50   \n",
       "1841 2024-01-20  151  83.05  163.08  125.33  172.14  1.59  143.45   \n",
       "1842 2024-01-21  103  56.65  111.24   85.49  117.42  1.08   97.85   \n",
       "\n",
       "      Next_Day_AQI  \n",
       "1838         100.0  \n",
       "1839         110.0  \n",
       "1840         151.0  \n",
       "1841         103.0  \n",
       "1842         128.0  "
      ]
     },
     "execution_count": 5,
     "metadata": {},
     "output_type": "execute_result"
    }
   ],
   "source": [
    "df['Next_Day_AQI'] = df['AQI'].shift(-1)\n",
    "df.dropna(subset=['Next_Day_AQI'], inplace=True)\n",
    "df.to_csv(r'C:/Users/manav/Desktop/AQI Prediction/dataset/Mumbai_AQI_Dataset_processed.csv', index=False)\n",
    "df.tail()"
   ]
  },
  {
   "cell_type": "code",
   "execution_count": 6,
   "id": "e1cc4810",
   "metadata": {},
   "outputs": [
    {
     "name": "stdout",
     "output_type": "stream",
     "text": [
      "         date  temperature_2m  relative_humidity_2m  wind_speed_10m  \\\n",
      "0  2019-01-01       21.999500             55.765919        8.920918   \n",
      "1  2019-02-01       22.426583             53.342182       10.603199   \n",
      "2  2019-04-01       21.766167             60.330617        9.091025   \n",
      "3  2019-05-01       22.387000             63.721218        9.215505   \n",
      "4  2019-06-01       21.989083             64.067885       10.660980   \n",
      "\n",
      "   precipitation  \n",
      "0            0.0  \n",
      "1            0.0  \n",
      "2            0.0  \n",
      "3            0.0  \n",
      "4            0.0  \n"
     ]
    }
   ],
   "source": [
    "df_weather=pd.read_csv(r'C:/Users/manav/Desktop/AQI Prediction/dataset/Mumbai_processed.csv')\n",
    "print(df_weather.head())"
   ]
  },
  {
   "cell_type": "code",
   "execution_count": 7,
   "id": "a4bec8d6",
   "metadata": {},
   "outputs": [
    {
     "name": "stdout",
     "output_type": "stream",
     "text": [
      "        date  temperature_2m  relative_humidity_2m  wind_speed_10m  \\\n",
      "0 2019-01-01       21.999500             55.765919        8.920918   \n",
      "1 2019-02-01       22.426583             53.342182       10.603199   \n",
      "2 2019-04-01       21.766167             60.330617        9.091025   \n",
      "3 2019-05-01       22.387000             63.721218        9.215505   \n",
      "4 2019-06-01       21.989083             64.067885       10.660980   \n",
      "\n",
      "   precipitation  \n",
      "0            0.0  \n",
      "1            0.0  \n",
      "2            0.0  \n",
      "3            0.0  \n",
      "4            0.0  \n"
     ]
    }
   ],
   "source": [
    "df_weather = pd.read_csv(r'C:/Users/manav/Desktop/AQI Prediction/dataset/Mumbai_processed.csv')\n",
    "df_weather['date'] = pd.to_datetime(df_weather['date'],format='mixed')\n",
    "columns_to_keep = [\n",
    "    'date',\n",
    "    'temperature_2m',\n",
    "    'relative_humidity_2m',\n",
    "    'wind_speed_10m',\n",
    "    'precipitation'\n",
    "]\n",
    "df_weather = df_weather[columns_to_keep]\n",
    "df_weather.to_csv(r\"C:/Users/manav/Desktop/AQI Prediction/dataset/Mumbai_processed.csv\", index=False)\n",
    "print(df_weather.head())\n"
   ]
  },
  {
   "cell_type": "code",
   "execution_count": 8,
   "id": "f540a860",
   "metadata": {},
   "outputs": [
    {
     "data": {
      "text/html": [
       "<div>\n",
       "<style scoped>\n",
       "    .dataframe tbody tr th:only-of-type {\n",
       "        vertical-align: middle;\n",
       "    }\n",
       "\n",
       "    .dataframe tbody tr th {\n",
       "        vertical-align: top;\n",
       "    }\n",
       "\n",
       "    .dataframe thead th {\n",
       "        text-align: right;\n",
       "    }\n",
       "</style>\n",
       "<table border=\"1\" class=\"dataframe\">\n",
       "  <thead>\n",
       "    <tr style=\"text-align: right;\">\n",
       "      <th></th>\n",
       "      <th>date</th>\n",
       "      <th>AQI</th>\n",
       "      <th>PM2.5</th>\n",
       "      <th>PM10</th>\n",
       "      <th>NO2</th>\n",
       "      <th>SO2</th>\n",
       "      <th>CO</th>\n",
       "      <th>O3</th>\n",
       "      <th>Next_Day_AQI</th>\n",
       "      <th>temperature_2m</th>\n",
       "      <th>relative_humidity_2m</th>\n",
       "      <th>wind_speed_10m</th>\n",
       "    </tr>\n",
       "  </thead>\n",
       "  <tbody>\n",
       "    <tr>\n",
       "      <th>0</th>\n",
       "      <td>2019-01-01</td>\n",
       "      <td>194</td>\n",
       "      <td>106.70</td>\n",
       "      <td>209.52</td>\n",
       "      <td>161.02</td>\n",
       "      <td>221.16</td>\n",
       "      <td>2.04</td>\n",
       "      <td>184.30</td>\n",
       "      <td>153.0</td>\n",
       "      <td>21.999500</td>\n",
       "      <td>55.765919</td>\n",
       "      <td>8.920918</td>\n",
       "    </tr>\n",
       "    <tr>\n",
       "      <th>1</th>\n",
       "      <td>2019-02-01</td>\n",
       "      <td>153</td>\n",
       "      <td>84.15</td>\n",
       "      <td>165.24</td>\n",
       "      <td>126.99</td>\n",
       "      <td>174.42</td>\n",
       "      <td>1.61</td>\n",
       "      <td>145.35</td>\n",
       "      <td>90.0</td>\n",
       "      <td>22.426583</td>\n",
       "      <td>53.342182</td>\n",
       "      <td>10.603199</td>\n",
       "    </tr>\n",
       "    <tr>\n",
       "      <th>2</th>\n",
       "      <td>2019-04-01</td>\n",
       "      <td>90</td>\n",
       "      <td>49.50</td>\n",
       "      <td>97.20</td>\n",
       "      <td>74.70</td>\n",
       "      <td>102.60</td>\n",
       "      <td>0.95</td>\n",
       "      <td>85.50</td>\n",
       "      <td>88.0</td>\n",
       "      <td>21.766167</td>\n",
       "      <td>60.330617</td>\n",
       "      <td>9.091025</td>\n",
       "    </tr>\n",
       "    <tr>\n",
       "      <th>3</th>\n",
       "      <td>2019-05-01</td>\n",
       "      <td>88</td>\n",
       "      <td>48.40</td>\n",
       "      <td>95.04</td>\n",
       "      <td>73.04</td>\n",
       "      <td>100.32</td>\n",
       "      <td>0.92</td>\n",
       "      <td>83.60</td>\n",
       "      <td>79.0</td>\n",
       "      <td>22.387000</td>\n",
       "      <td>63.721218</td>\n",
       "      <td>9.215505</td>\n",
       "    </tr>\n",
       "    <tr>\n",
       "      <th>4</th>\n",
       "      <td>2019-06-01</td>\n",
       "      <td>79</td>\n",
       "      <td>43.45</td>\n",
       "      <td>85.32</td>\n",
       "      <td>65.57</td>\n",
       "      <td>90.06</td>\n",
       "      <td>0.83</td>\n",
       "      <td>75.05</td>\n",
       "      <td>42.0</td>\n",
       "      <td>21.989083</td>\n",
       "      <td>64.067885</td>\n",
       "      <td>10.660980</td>\n",
       "    </tr>\n",
       "  </tbody>\n",
       "</table>\n",
       "</div>"
      ],
      "text/plain": [
       "        date  AQI   PM2.5    PM10     NO2     SO2    CO      O3  Next_Day_AQI  \\\n",
       "0 2019-01-01  194  106.70  209.52  161.02  221.16  2.04  184.30         153.0   \n",
       "1 2019-02-01  153   84.15  165.24  126.99  174.42  1.61  145.35          90.0   \n",
       "2 2019-04-01   90   49.50   97.20   74.70  102.60  0.95   85.50          88.0   \n",
       "3 2019-05-01   88   48.40   95.04   73.04  100.32  0.92   83.60          79.0   \n",
       "4 2019-06-01   79   43.45   85.32   65.57   90.06  0.83   75.05          42.0   \n",
       "\n",
       "   temperature_2m  relative_humidity_2m  wind_speed_10m  \n",
       "0       21.999500             55.765919        8.920918  \n",
       "1       22.426583             53.342182       10.603199  \n",
       "2       21.766167             60.330617        9.091025  \n",
       "3       22.387000             63.721218        9.215505  \n",
       "4       21.989083             64.067885       10.660980  "
      ]
     },
     "execution_count": 8,
     "metadata": {},
     "output_type": "execute_result"
    }
   ],
   "source": [
    "# Merge on 'date' column\n",
    "merged_df = pd.merge(df, df_weather, on='date', how='inner')\n",
    "merged_df=merged_df.drop('precipitation', axis=1)\n",
    "# Save the final merged dataset\n",
    "merged_df.to_csv(r\"C:\\Users\\manav\\Desktop\\AQI Prediction\\dataset\\Final_aqi_weather.csv\", index=False)\n",
    "merged_df.head()"
   ]
  },
  {
   "cell_type": "code",
   "execution_count": null,
   "id": "ea375be2",
   "metadata": {},
   "outputs": [],
   "source": []
  },
  {
   "cell_type": "code",
   "execution_count": null,
   "id": "f4bf42db",
   "metadata": {},
   "outputs": [],
   "source": []
  },
  {
   "cell_type": "code",
   "execution_count": null,
   "id": "3dbb3c6e",
   "metadata": {},
   "outputs": [],
   "source": []
  },
  {
   "cell_type": "code",
   "execution_count": null,
   "id": "f935acfa",
   "metadata": {},
   "outputs": [],
   "source": []
  },
  {
   "cell_type": "code",
   "execution_count": null,
   "id": "2e15e427",
   "metadata": {},
   "outputs": [],
   "source": [
    "\n"
   ]
  },
  {
   "cell_type": "code",
   "execution_count": null,
   "id": "33db643c",
   "metadata": {},
   "outputs": [],
   "source": []
  }
 ],
 "metadata": {
  "kernelspec": {
   "display_name": "myenv",
   "language": "python",
   "name": "python3"
  },
  "language_info": {
   "codemirror_mode": {
    "name": "ipython",
    "version": 3
   },
   "file_extension": ".py",
   "mimetype": "text/x-python",
   "name": "python",
   "nbconvert_exporter": "python",
   "pygments_lexer": "ipython3",
   "version": "3.13.3"
  }
 },
 "nbformat": 4,
 "nbformat_minor": 5
}
